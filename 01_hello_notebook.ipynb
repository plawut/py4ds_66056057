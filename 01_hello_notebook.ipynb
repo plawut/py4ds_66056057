{
 "cells": [
  {
   "cell_type": "markdown",
   "source": [
    "# Jupyter Notebook Shortcuts\n",
    "**Jupyter Notebook** มี input mode 2 modes ได้แก่ **Commmand Mode** และ **Edit Mode** ใครเคยใช้ `vim` มาก่อน ก็จะเข้าใจได้เลยทันที ส่วนใครไม่เคยใช้ `vim` text editor มาก่อน ก็ควรใช้เวลาสัก 2-3 ชม หัดพื้นฐานของ text editor ตัวนี้ดูครับ **แนะนำอย่างยิ่ง**\n",
    "\n",
    "เราสลับไปมาระหว่าง 2 โหมดนี้่ได้ด้วย `[Esc]` และ `[Enter]` คีย์ และสังเกต**สีด้านซ้ายของ cell** ด้วย ว่าเป็น **สีเขียว** หรือเป็น **สีฟ้า**"
   ],
   "metadata": {
    "collapsed": false
   },
   "id": "3ffef0928da5af23"
  },
  {
   "cell_type": "markdown",
   "source": [
    "## Jupyter Notebook Command Mode Shortcuts"
   ],
   "metadata": {
    "collapsed": false
   },
   "id": "ba0e79be45169b2a"
  },
  {
   "cell_type": "markdown",
   "source": [
    "**Command mode**  ช็อตคัตใน edit mode มีที่สำคัญดังนี้:\n",
    "\n",
    "* `Arrow Up/Arrow Down` : Navigate between cells\n",
    "* `A`: Insert a new cell above the current cell.\n",
    "* `B`: Insert a new cell below the current cell.\n",
    "* `C`: Copy the selected cell.\n",
    "* `V`: Paste the copied cell below the current cell.\n",
    "* `D`: Delete the selected cell.\n",
    "* `Z`: Undo the last cell operation.\n",
    "* `M`: Convert the selected cell to a markdown cell.\n",
    "* `Y`: Convert the selected cell to a code cell.\n",
    "* `Shift` + `Arrow Up/Arrow Down`: Select multiple cells.\n",
    "* `Shift` + `M`: Merge selected cells.\n",
    "* `Shift` + `Enter` : Run the current cell and move the cursor to the next cell.\n",
    "* `Ctrl` + `Enter` : Run the current cell without moving the cursor.\n",
    "* `Alt` + `Arrow Up/Arrow Down`: Move current cell up or down"
   ],
   "metadata": {
    "collapsed": false
   },
   "id": "d0a07545dbfe082b"
  },
  {
   "cell_type": "markdown",
   "source": [
    "## Jupyter Notebook Edit Mode Shortcuts\n",
    "\n",
    "**Edit mode** ช็อตคัตใน edit mode มีที่สำคัญดังนี้:\n",
    "\n",
    "* `Tab`: Code completion or indent.\n",
    "* `Ctrl` + `Shift` + `–`: Split the current cell at the cursor.\n",
    "* `Ctrl` + `]`: Indent.\n",
    "* `Ctrl` + `[`: Dedent.\n",
    "* `Ctrl` + `A`: Select all.\n",
    "* `Ctrl` + `Z`: Undo.\n",
    "* `Ctrl` + `Y`: Redo.\n",
    "* `Ctrl` + `Home`: Go to cell start.\n",
    "* `Ctrl` + `End`: Go to cell end.\n"
   ],
   "metadata": {
    "collapsed": false
   },
   "id": "1509cde40919b775"
  },
  {
   "cell_type": "markdown",
   "source": [
    "**Tips**\n",
    "\n",
    "* คลิกด้านซ้ายของ cell (ตรงช่องว่างเหมือนย่อหน้า) select cell\n",
    "* คลิก `...` ที่ด้านหลัง Output สามารถเคลียร์ผลลัพธ์ได้\n",
    "* เคลียร์ outputs ทั้งหมด ให้ทำที่ toolbar ปุ่มไม้กวาด\n",
    "* หากมีปัญหา เราสามารถ **Run All** หรือ **Restart Kernel** ได้ จาก toolbar เช่นกัน"
   ],
   "metadata": {
    "collapsed": false
   },
   "id": "3f1c8cfc41970c83"
  },
  {
   "cell_type": "code",
   "execution_count": null,
   "outputs": [],
   "source": [
    "# TODO - จงฝึกหัดใช้ command shortcuts ด้านบนให้คล่องแคล่ว"
   ],
   "metadata": {
    "collapsed": false,
    "is_executing": true
   },
   "id": "8f6e5cb120b6514c"
  },
  {
   "cell_type": "markdown",
   "source": [
    "## Command Line Interface (CLI)\n",
    "\n",
    "เราสามารถเรียก **command line** ขึ้นมาใช้งานใน `code cell` ได้ โดยการใช้ **`%`** นำหน้า"
   ],
   "metadata": {
    "collapsed": false
   },
   "id": "e960012b4449c47"
  },
  {
   "cell_type": "code",
   "execution_count": 1,
   "outputs": [
    {
     "name": "stdout",
     "output_type": "stream",
     "text": [
      " Volume in drive C has no label.\n",
      " Volume Serial Number is D4D1-F036\n",
      "\n",
      " Directory of C:\\Users\\Polawut K\\DataspellProjects\\py4ds_66056057\n"
     ]
    },
    {
     "name": "stderr",
     "output_type": "stream",
     "text": [
      "File Not Found\n"
     ]
    }
   ],
   "source": [
    "%ls -l"
   ],
   "metadata": {
    "collapsed": false,
    "ExecuteTime": {
     "end_time": "2023-10-01T04:27:53.904916300Z",
     "start_time": "2023-10-01T04:27:53.793918800Z"
    }
   },
   "id": "e3fe3b76b31c93ea"
  },
  {
   "cell_type": "code",
   "execution_count": 2,
   "outputs": [
    {
     "data": {
      "text/plain": "'C:\\\\Users\\\\Polawut K\\\\DataspellProjects\\\\py4ds_66056057'"
     },
     "execution_count": 2,
     "metadata": {},
     "output_type": "execute_result"
    }
   ],
   "source": [
    "%pwd"
   ],
   "metadata": {
    "collapsed": false,
    "ExecuteTime": {
     "end_time": "2023-10-01T04:28:09.395307100Z",
     "start_time": "2023-10-01T04:28:09.330308700Z"
    }
   },
   "id": "9f72790a30a5d7bb"
  },
  {
   "cell_type": "code",
   "execution_count": 18,
   "outputs": [],
   "source": [
    "#%pip install -r requirements.txt"
   ],
   "metadata": {
    "collapsed": false,
    "ExecuteTime": {
     "end_time": "2023-10-01T04:31:38.012851500Z",
     "start_time": "2023-10-01T04:31:37.993848500Z"
    }
   },
   "id": "aafceae108f9c26a"
  },
  {
   "cell_type": "code",
   "execution_count": 19,
   "outputs": [],
   "source": [
    "a = 6\n",
    "b = 7"
   ],
   "metadata": {
    "collapsed": false,
    "ExecuteTime": {
     "end_time": "2023-10-01T04:32:23.198429800Z",
     "start_time": "2023-10-01T04:32:23.183433900Z"
    }
   },
   "id": "85f26e13618b7adc"
  },
  {
   "cell_type": "code",
   "execution_count": 20,
   "outputs": [],
   "source": [
    "c = a+b"
   ],
   "metadata": {
    "collapsed": false,
    "ExecuteTime": {
     "end_time": "2023-10-01T04:32:24.170536900Z",
     "start_time": "2023-10-01T04:32:24.148540900Z"
    }
   },
   "id": "8d6eb821b43f0a7c"
  },
  {
   "cell_type": "code",
   "execution_count": 21,
   "outputs": [
    {
     "data": {
      "text/plain": "169"
     },
     "execution_count": 21,
     "metadata": {},
     "output_type": "execute_result"
    }
   ],
   "source": [
    "c**2"
   ],
   "metadata": {
    "collapsed": false,
    "ExecuteTime": {
     "end_time": "2023-10-01T04:32:25.077632200Z",
     "start_time": "2023-10-01T04:32:25.058602800Z"
    }
   },
   "id": "c00977d0f57936cc"
  },
  {
   "cell_type": "code",
   "execution_count": null,
   "outputs": [],
   "source": [],
   "metadata": {
    "collapsed": false
   },
   "id": "9b655f45fa331276"
  }
 ],
 "metadata": {
  "kernelspec": {
   "display_name": "Python 3",
   "language": "python",
   "name": "python3"
  },
  "language_info": {
   "codemirror_mode": {
    "name": "ipython",
    "version": 2
   },
   "file_extension": ".py",
   "mimetype": "text/x-python",
   "name": "python",
   "nbconvert_exporter": "python",
   "pygments_lexer": "ipython2",
   "version": "2.7.6"
  }
 },
 "nbformat": 4,
 "nbformat_minor": 5
}
